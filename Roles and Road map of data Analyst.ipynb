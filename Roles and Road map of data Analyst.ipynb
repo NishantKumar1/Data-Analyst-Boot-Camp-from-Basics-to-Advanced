{
 "cells": [
  {
   "cell_type": "markdown",
   "metadata": {},
   "source": [
    "- Data Science Project\n",
    "1) Requirement Gathering , with two important Groups\n",
    "\n",
    "    i) Domain Expertise/Product Owner\n",
    "\n",
    "    ii) Business Analyst\n",
    "\n",
    "2) Requirements from the Client are broken down into sprints--- Agile Methodology.\n",
    "\n",
    "   i) User stories are added to Sprint--- time period of sprint is 2 to 3 weeks\n",
    "\n",
    "3) Data Analyst and Data Scientist---- Discussion with Product owner.\n",
    "\n",
    "    i) Where to get the data from, data could in database, paid cloud API.\n",
    "\n",
    "     ii) Discussion with Expertise /Product Owner\n",
    "\n",
    "4) Another Team is also involved aka Big Data Engineering Team.\n",
    "\n",
    "   i) When the data source is identified, they create a pipeline created by Big Data Engineering team.\n",
    "\n",
    "ii) Once the pipe line is created they store the data in mongo DB, Cassandra, vector database or MySQL as well.\n",
    "\n",
    "5) Data Analyst work is feature engineering ,  cleaning data, and exploratory data analysis, they will do the reporting using Power Bi or Tableau.--- these are business intelligence team\n",
    "\n",
    "6) The also perform statistical testing, Hypothesis testing, Data analyst would have information about SQL, and MongoDB.\n",
    "\n",
    "7) They forward these reports to stakeHolders, after which they will make business decisions.\n",
    "\n",
    "Pre- Requiste---\n",
    "\n",
    "Python--- pandas, Numpy, seaborn, EDA\n",
    "\n",
    "Statistics--- Descriptive and Inferential statistics\n",
    "\n",
    "Excel---\n",
    "\n",
    "Feature Engineering--- handle missing values, cleaning data\n",
    "\n",
    "EDA--- Exploratory data analysis\n",
    "\n",
    "SQL--- SQL Server, in-depth, basic to advance, interview question.\n",
    "\n",
    "Power Bi--- Imporatant Business tool, DAX query, power Query model, \n",
    "\n",
    "Solve end to end projects. Integrate Power Bi to SQL"
   ]
  },
  {
   "cell_type": "markdown",
   "metadata": {},
   "source": []
  },
  {
   "cell_type": "code",
   "execution_count": null,
   "metadata": {},
   "outputs": [],
   "source": [
    "  "
   ]
  },
  {
   "cell_type": "markdown",
   "metadata": {},
   "source": []
  },
  {
   "cell_type": "markdown",
   "metadata": {},
   "source": []
  }
 ],
 "metadata": {
  "language_info": {
   "name": "python"
  }
 },
 "nbformat": 4,
 "nbformat_minor": 2
}
