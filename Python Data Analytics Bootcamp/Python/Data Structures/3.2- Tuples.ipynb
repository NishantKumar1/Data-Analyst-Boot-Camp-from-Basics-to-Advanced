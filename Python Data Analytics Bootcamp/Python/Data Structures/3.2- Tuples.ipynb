{
 "cells": [
  {
   "cell_type": "markdown",
   "metadata": {},
   "source": [
    "### Tuples\n",
    "\n",
    "## Video: Outline\n",
    "\n",
    "- 1. Introduction to tuples\n",
    "- 2. Creating Tuples\n",
    "- 3. Accessing Tupl Elements\n",
    "- 4. Tuple Operations\n",
    "- 5. Immutable Nature of Tuples\n",
    "- 6. Tuple Methods.\n",
    "- 7. Packing and Unpacking Tuples.\n",
    "- 8. Nested Tuples\n",
    "- 9. Practical Examples and common Errors.\n"
   ]
  },
  {
   "cell_type": "markdown",
   "metadata": {},
   "source": [
    "### Introduction to Tuples\n",
    "\n",
    "# Explanation:\n",
    "# Tuples are ordered collections of items that immuatable. They are smilar to lists, bu their immuatability makes them different.\n"
   ]
  },
  {
   "cell_type": "markdown",
   "metadata": {},
   "source": []
  },
  {
   "cell_type": "code",
   "execution_count": null,
   "metadata": {},
   "outputs": [],
   "source": [
    "## Creat a tuple\n",
    "\n",
    "empty_tuple= ()\n",
    "print(type(empty_tuple))"
   ]
  },
  {
   "cell_type": "code",
   "execution_count": null,
   "metadata": {},
   "outputs": [],
   "source": [
    "lst = list()\n",
    "print(type(lst))\n",
    "tpl = tuple()\n",
    "print(type(tpl))"
   ]
  },
  {
   "cell_type": "code",
   "execution_count": null,
   "metadata": {},
   "outputs": [],
   "source": []
  }
 ],
 "metadata": {
  "kernelspec": {
   "display_name": "Python 3",
   "language": "python",
   "name": "python3"
  },
  "language_info": {
   "codemirror_mode": {
    "name": "ipython",
    "version": 3
   },
   "file_extension": ".py",
   "mimetype": "text/x-python",
   "name": "python",
   "nbconvert_exporter": "python",
   "pygments_lexer": "ipython3",
   "version": "3.12.6"
  }
 },
 "nbformat": 4,
 "nbformat_minor": 2
}
