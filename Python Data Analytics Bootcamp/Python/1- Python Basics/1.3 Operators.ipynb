{
 "cells": [
  {
   "cell_type": "markdown",
   "metadata": {},
   "source": [
    "### Deep Dive Into Operators\n",
    "\n",
    "\n",
    "## Video Outline\n",
    "\n",
    "\n",
    "# 1. Introduction to operators\n",
    "# 2. Arithmetic Operators.\n",
    "- Addition\n",
    "- Subtraction\n",
    "- Multiplication\n",
    "- Division\n",
    "- Floor Division\n",
    "- Modulus\n",
    "- Exponentiation\n",
    "\n",
    "\n",
    "    "
   ]
  },
  {
   "cell_type": "markdown",
   "metadata": {},
   "source": [
    "## 3. Comparison Operators\n",
    "- Equal to\n",
    "- Not equal tt\n",
    "- Greater than\n",
    "- Less than\n",
    "- Greater than or equal to\n",
    "- Less than or equal to\n",
    "\n"
   ]
  },
  {
   "cell_type": "markdown",
   "metadata": {},
   "source": []
  },
  {
   "cell_type": "markdown",
   "metadata": {},
   "source": [
    "### 4. Logical Operators\n",
    "- ANG\n",
    "- OR\n",
    "- NOT\n"
   ]
  },
  {
   "cell_type": "code",
   "execution_count": 5,
   "metadata": {},
   "outputs": [
    {
     "name": "stdout",
     "output_type": "stream",
     "text": [
      "15\n",
      "5\n",
      "50\n",
      "2.0\n",
      "2\n",
      "0\n",
      "100000\n"
     ]
    }
   ],
   "source": [
    "## Arithmetic Operations\n",
    "\n",
    "a = 10\n",
    "b = 5\n",
    "\n",
    "add_result = a+b  # addition\n",
    "sub_result = a-b   # subtraction\n",
    "mult_result = a*b   # Multiplication\n",
    "div_result= a/b     # divison\n",
    "floor_div_result = a//b  # floor division\n",
    "modulus_result = a%b # Modulus operation(it gives remainder)\n",
    "exponent_result = a**b   # Exponentiation\n",
    "\n",
    "print(add_result)\n",
    "print(sub_result)\n",
    "print(mult_result)\n",
    "print(div_result)\n",
    "print(floor_div_result)\n",
    "print(modulus_result)\n",
    "print(exponent_result)"
   ]
  },
  {
   "cell_type": "code",
   "execution_count": 6,
   "metadata": {},
   "outputs": [],
   "source": [
    "## Comparison Operators\n",
    "\n",
    "## ==  # double equal\n",
    "## Not equal to !=\n",
    "## Greater than >\n",
    "## less than <\n",
    "## Greater than or equal to >=\n",
    "## less than or equal to <=\n",
    "\n"
   ]
  },
  {
   "cell_type": "code",
   "execution_count": null,
   "metadata": {},
   "outputs": [],
   "source": [
    "## Logical Operators\n",
    "# AND, NOT , OR\n",
    "# In case of And both a and b are true then only it is true= T & T = T\n",
    "#T & F= F\n",
    "# OR only in case of x and y are false then only you will get False, if any of the equation is True or both True it will be true\n",
    "# F & F = F\n",
    "# F & T = T\n",
    "# NOT, it is reverse of Boolean valuable = if True, then it is False.\n"
   ]
  },
  {
   "cell_type": "code",
   "execution_count": null,
   "metadata": {},
   "outputs": [],
   "source": []
  },
  {
   "cell_type": "code",
   "execution_count": null,
   "metadata": {},
   "outputs": [],
   "source": []
  }
 ],
 "metadata": {
  "kernelspec": {
   "display_name": "Python 3",
   "language": "python",
   "name": "python3"
  },
  "language_info": {
   "codemirror_mode": {
    "name": "ipython",
    "version": 3
   },
   "file_extension": ".py",
   "mimetype": "text/x-python",
   "name": "python",
   "nbconvert_exporter": "python",
   "pygments_lexer": "ipython3",
   "version": "3.12.6"
  }
 },
 "nbformat": 4,
 "nbformat_minor": 2
}
