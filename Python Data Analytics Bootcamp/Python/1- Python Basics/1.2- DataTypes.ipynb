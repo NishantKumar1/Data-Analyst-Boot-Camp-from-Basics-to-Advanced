{
 "cells": [
  {
   "cell_type": "markdown",
   "metadata": {},
   "source": [
    "### 1. Introuction to Data Type\n",
    "### 2. Importance of Data Types in Programmming\n",
    "### 3. Basic Data Types\n",
    "   - Integers\n",
    "   - Floating- point numbers\n",
    "   - strings\n",
    "   - Booleans\n",
    "\n",
    "### 4.Advanced Data Types\n",
    "- Lists\n",
    "- Tuples\n",
    "- Sets\n",
    "- Dictionaries\n",
    "\n",
    "### 5. Type Conversion\n",
    "### 6. Practical Examples"
   ]
  },
  {
   "cell_type": "markdown",
   "metadata": {},
   "source": [
    "### Data Types\n",
    "### 1. Defination:\n",
    "- Data Types are a classification of data which tell the compiler or interpreter how to programmer intends to use the data.\n",
    "- They determine the type of operations that can be performed on the data, the values that the data can take, and the amount of memory needed to store the data.\n",
    "\n",
    "\n",
    "\n",
    "### Importance of Data Types in Programming\n"
   ]
  },
  {
   "cell_type": "markdown",
   "metadata": {},
   "source": []
  }
 ],
 "metadata": {
  "language_info": {
   "name": "python"
  }
 },
 "nbformat": 4,
 "nbformat_minor": 2
}
