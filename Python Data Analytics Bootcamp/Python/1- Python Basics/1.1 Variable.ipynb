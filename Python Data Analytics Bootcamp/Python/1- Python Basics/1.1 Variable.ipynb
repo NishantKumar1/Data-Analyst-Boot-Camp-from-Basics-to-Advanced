{
 "cells": [
  {
   "cell_type": "markdown",
   "metadata": {},
   "source": [
    "## Variables"
   ]
  },
  {
   "cell_type": "markdown",
   "metadata": {},
   "source": [
    "Variables are fundamental elements in Programming used to store data that can be referenced and manipulated in a program.\n",
    "In python, variables are created when you assign a value to them, and they do not need explicit declaration to reserve memory space.\n",
    "The declaration happens automatically when you assign a value to a variable.\n"
   ]
  },
  {
   "cell_type": "markdown",
   "metadata": {},
   "source": [
    "# Videos Outline:"
   ]
  },
  {
   "cell_type": "markdown",
   "metadata": {},
   "source": [
    "- Introduction to Variables\n",
    "- Declaring and Assigning Variables\n",
    "- Naming conventions.\n",
    "- Understanding Variable Types\n",
    "- Type checking and conversion\n",
    "- Dynamic Typing\n",
    "- Practical Examples and common errors\n"
   ]
  },
  {
   "cell_type": "markdown",
   "metadata": {},
   "source": [
    "## Declaring Variable"
   ]
  },
  {
   "cell_type": "code",
   "execution_count": 4,
   "metadata": {},
   "outputs": [],
   "source": [
    "age = 41\n",
    "height = 5.10\n",
    "name = \"Nishant\"\n",
    "is_student = True"
   ]
  },
  {
   "cell_type": "code",
   "execution_count": null,
   "metadata": {},
   "outputs": [],
   "source": [
    "# Printing the variables\n",
    "print(\"age:\", age)\n",
    "print(\"height:\", height)\n",
    "print(\"name:\", name)\n",
    "print(\"is_student:\", is_student)"
   ]
  },
  {
   "cell_type": "markdown",
   "metadata": {
    "vscode": {
     "languageId": "javascript"
    }
   },
   "source": [
    "## Naming Convention\n",
    "## Variables names should be descriptive\n",
    "## They must start with a letter or an '_' and contains letter, numbers and underscores\n",
    "## Variables names case senstive\n",
    "\n",
    "# Valid Variable names\n",
    "first_name = \"Nishant\"\n",
    "last_name = \"Kumar \n"
   ]
  },
  {
   "cell_type": "code",
   "execution_count": 2,
   "metadata": {},
   "outputs": [],
   "source": [
    "## Understanding Variable types\n",
    "\n",
    "## Python is Dynamicaly typed, type of a vairable is determined at runtime.\n",
    "\n",
    "age = 25 # int\n",
    "height = 5.10 # float\n",
    "name = \"Nishant\" # str\n",
    "is_student = True # boolean"
   ]
  },
  {
   "cell_type": "code",
   "execution_count": null,
   "metadata": {},
   "outputs": [],
   "source": [
    "print(type(age))"
   ]
  },
  {
   "cell_type": "code",
   "execution_count": null,
   "metadata": {},
   "outputs": [],
   "source": [
    "# Type checking and Conversion\n",
    "# Check the Type of variable\n",
    "# can we convert one data type to another data type\n",
    "\n",
    "age = 25\n",
    "print(type(age))\n",
    "\n",
    "#  conversion\n",
    "\n",
    "age= str(age)\n",
    "print(type(age))"
   ]
  },
  {
   "cell_type": "code",
   "execution_count": null,
   "metadata": {},
   "outputs": [],
   "source": [
    "# Dynamic Typing\n",
    "# Python allows the type of a variable to change as program executes.\n",
    "var = 10 # int\n",
    "print(var, type(var))\n",
    "\n",
    "var = 5.0 # float\n",
    "print(var, type(var))\n",
    "\n",
    "var = \"Nishant\" # string\n",
    "print(var, type(var))"
   ]
  },
  {
   "cell_type": "code",
   "execution_count": 1,
   "metadata": {},
   "outputs": [
    {
     "name": "stdout",
     "output_type": "stream",
     "text": [
      "41\n"
     ]
    }
   ],
   "source": [
    "# Input command to tbe used in Python\n",
    "age = input(\"Please type in your age\")\n",
    "print(age)"
   ]
  },
  {
   "cell_type": "code",
   "execution_count": 2,
   "metadata": {},
   "outputs": [
    {
     "name": "stdout",
     "output_type": "stream",
     "text": [
      "41 <class 'int'>\n"
     ]
    }
   ],
   "source": [
    "age = int(input(\"Please type in your age\"))\n",
    "print(age,type(age))"
   ]
  },
  {
   "cell_type": "code",
   "execution_count": 3,
   "metadata": {},
   "outputs": [
    {
     "name": "stdout",
     "output_type": "stream",
     "text": [
      "Sum: 4.0\n",
      "Difference: 0.0\n",
      "Quotient: 1.0\n"
     ]
    }
   ],
   "source": [
    " ## Simple calulator\n",
    "\n",
    "num1 = float(input(\"Enter first number:\"))\n",
    "num2 = float(input(\"Enter second nummber:\"))\n",
    "\n",
    "sum = num1 + num2\n",
    "difference = num1-num2\n",
    "product = num1 * num2\n",
    "quotient = num1 /num2\n",
    "\n",
    "print(\"Sum:\", sum)\n",
    "print(\"Difference:\", difference)\n",
    "print(\"Quotient:\", quotient)"
   ]
  },
  {
   "cell_type": "code",
   "execution_count": null,
   "metadata": {},
   "outputs": [],
   "source": []
  }
 ],
 "metadata": {
  "kernelspec": {
   "display_name": "Python 3",
   "language": "python",
   "name": "python3"
  },
  "language_info": {
   "codemirror_mode": {
    "name": "ipython",
    "version": 3
   },
   "file_extension": ".py",
   "mimetype": "text/x-python",
   "name": "python",
   "nbconvert_exporter": "python",
   "pygments_lexer": "ipython3",
   "version": "3.12.6"
  }
 },
 "nbformat": 4,
 "nbformat_minor": 2
}
