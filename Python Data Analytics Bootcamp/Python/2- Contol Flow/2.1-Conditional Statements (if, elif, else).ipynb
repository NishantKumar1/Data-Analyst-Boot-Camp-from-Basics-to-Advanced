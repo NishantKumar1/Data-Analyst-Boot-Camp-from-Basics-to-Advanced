{
 "cells": [
  {
   "cell_type": "markdown",
   "metadata": {},
   "source": [
    "### Conditional Statements (if, elif, else)\n",
    "## Video Outline\n",
    "\n",
    "- 1. Introduction to conditional statements\n",
    "- 2. if Statement\n",
    "- 3. else statement\n",
    "- 4. elif statement\n",
    "- 5. Nested Conditional Statements\n",
    "- 6. Practical Examples\n",
    "- 7. Common Errors and Best Practices"
   ]
  },
  {
   "cell_type": "code",
   "execution_count": 4,
   "metadata": {},
   "outputs": [
    {
     "name": "stdout",
     "output_type": "stream",
     "text": [
      "YOu are allowed to vote in the elections\n"
     ]
    }
   ],
   "source": [
    "## if statement\n",
    "# if statement evaluates condition and executes block of code within it, only if the condition is true.\n",
    "# Condition is give or needs to be provided.\n",
    "\n",
    "age = int(input(\"Please enter the age to verify the eligibility?\"))\n",
    "if age>= 18:\n",
    "    print(\"YOu are allowed to vote in the elections\")\n",
    "else:\n",
    "    print(\"you are not allowed to vote in the elections\")"
   ]
  },
  {
   "cell_type": "code",
   "execution_count": 7,
   "metadata": {},
   "outputs": [
    {
     "name": "stdout",
     "output_type": "stream",
     "text": [
      "Your age is 18 you are allowed to vote.\n"
     ]
    }
   ],
   "source": [
    "# Define else\n",
    "\n",
    "## the else statement executes the block of code if the condition in the block of code is False.\n",
    "\n",
    "age = int(input(\"Please enter the age to verify the age eligibility?\"))\n",
    "if age>= 18:\n",
    "    print(f\"Your age is {age} you are allowed to vote.\")\n",
    "else:\n",
    "    print(f\"Your age is {age}, you are not allowed to vote\")\n"
   ]
  },
  {
   "cell_type": "code",
   "execution_count": 12,
   "metadata": {},
   "outputs": [
    {
     "name": "stdout",
     "output_type": "stream",
     "text": [
      "Your age is 17 and you are teenager\n"
     ]
    }
   ],
   "source": [
    "## Elif statement\n",
    "## The elif statement allows you to check multiple conditions. It stands for \"else if\"\n",
    "## To check multiple questions\n",
    "\n",
    "age= int(input(\"Please enter the age to verify the details\"))\n",
    "if age < 18:\n",
    "    print(f\"Your age is {age} and you are teenager\")\n",
    "elif age <= 59:\n",
    "    print(f\"Your age is {age}, you are an Adult\")\n",
    "else:\n",
    "    print(f\"Your age is {age}, you are a senior Citizen, please stand in a different queue\")\n",
    "    "
   ]
  },
  {
   "cell_type": "code",
   "execution_count": 16,
   "metadata": {},
   "outputs": [
    {
     "name": "stdout",
     "output_type": "stream",
     "text": [
      "The number is -1, it is either 0 or negative number\n"
     ]
    }
   ],
   "source": [
    "## Nested Conditional Statements\n",
    "## We can place if,elif, else statement inside another if ,elif, or else statement to create a nested conditional statements\n",
    "## check the number if it is even, odd or negative\n",
    "\n",
    "num = int(input(\"Please enter the number you want to verify?\"))\n",
    "if num> 0:\n",
    "    print(f\"Your number is {num} and its an positive number\")\n",
    "    if num %2==0:\n",
    "        print(f\"The number is {num} and its an even number\")\n",
    "    else:\n",
    "        print(f\"The number is {num} and its an odd number\")\n",
    "\n",
    "else:\n",
    "    print(f\"The number is {num}, it is either 0 or negative number\")\n"
   ]
  },
  {
   "cell_type": "code",
   "execution_count": 22,
   "metadata": {},
   "outputs": [
    {
     "name": "stdout",
     "output_type": "stream",
     "text": [
      "Year is 2024\n",
      "Year is 2024 and it is leap year\n"
     ]
    }
   ],
   "source": [
    "## Practical Examples\n",
    "\n",
    "## Determine of the year is Leap Year using nested conditinal statements\n",
    "\n",
    "year = int(input(\"Please enter the year to check if its leap Year\"))\n",
    "if year > 999:\n",
    "    print(f\"Year is {year}\")\n",
    "    if year % 4 == 0:\n",
    "        print(f\"Year is {year} and it is leap year\")\n",
    "    else:\n",
    "        print(f\"Year is {year}and it is not a leap year\")\n",
    "else:\n",
    "    print(\"Please check the year digits\")\n",
    "\n",
    "\n"
   ]
  },
  {
   "cell_type": "code",
   "execution_count": null,
   "metadata": {},
   "outputs": [],
   "source": [
    "## Assignment create a calculator\n",
    "## Assignment ticket fare price based on age\n"
   ]
  }
 ],
 "metadata": {
  "kernelspec": {
   "display_name": "Python 3",
   "language": "python",
   "name": "python3"
  },
  "language_info": {
   "codemirror_mode": {
    "name": "ipython",
    "version": 3
   },
   "file_extension": ".py",
   "mimetype": "text/x-python",
   "name": "python",
   "nbconvert_exporter": "python",
   "pygments_lexer": "ipython3",
   "version": "3.12.6"
  }
 },
 "nbformat": 4,
 "nbformat_minor": 2
}
