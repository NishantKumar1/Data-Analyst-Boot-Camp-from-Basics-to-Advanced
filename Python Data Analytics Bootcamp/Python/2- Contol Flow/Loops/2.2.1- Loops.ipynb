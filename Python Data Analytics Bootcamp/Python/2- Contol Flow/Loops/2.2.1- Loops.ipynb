{
 "cells": [
  {
   "cell_type": "markdown",
   "metadata": {},
   "source": [
    "### Loops\n",
    "\n",
    "## Video Outline:\n",
    "\n",
    "- 1- Introduction to Loops\n",
    "- 2- for Loop\n",
    "    - Iterating over a range\n",
    "    - Iterating over a string\n",
    "\n",
    "- 3- While Loop\n",
    "\n",
    "- 4- Loop Control Statements\n",
    "   - break\n",
    "   - continue\n",
    "   - pass\n",
    "\n",
    "- 5- Nested Loops\n",
    "- 6- Practical Examples and Common Errors\n"
   ]
  },
  {
   "cell_type": "code",
   "execution_count": null,
   "metadata": {},
   "outputs": [],
   "source": [
    "## For Loop- collection of data structures, you can traverse to it easily with the help of For Loop\n",
    "## For loop is loop it will iterate over sequence of Numbers\n",
    "range(5)\n",
    "print(range)\n",
    "for i in range(5):\n",
    "    print(i)\n"
   ]
  },
  {
   "cell_type": "code",
   "execution_count": null,
   "metadata": {},
   "outputs": [],
   "source": [
    "for  x in range(1,6):\n",
    "    print(x)"
   ]
  },
  {
   "cell_type": "markdown",
   "metadata": {},
   "source": []
  },
  {
   "cell_type": "code",
   "execution_count": null,
   "metadata": {},
   "outputs": [],
   "source": [
    "for i in range(0,10,2):\n",
    "    print(i)"
   ]
  },
  {
   "cell_type": "code",
   "execution_count": null,
   "metadata": {},
   "outputs": [],
   "source": [
    "for i in range(10,1,-1):\n",
    "    print(i)"
   ]
  },
  {
   "cell_type": "code",
   "execution_count": null,
   "metadata": {},
   "outputs": [],
   "source": [
    "## For loop in Strings\n",
    "str= \"Nishant Kumar\"\n",
    "for i in str:\n",
    "    print(i)"
   ]
  },
  {
   "cell_type": "code",
   "execution_count": null,
   "metadata": {},
   "outputs": [],
   "source": [
    "## While loop\n",
    "## The while loop continues to execute as long as the condition is True\n",
    "\n",
    "\n",
    "count = 0\n",
    "\n",
    "while count < 5:\n",
    "    print(count)\n",
    "    count+=1"
   ]
  },
  {
   "cell_type": "code",
   "execution_count": 13,
   "metadata": {},
   "outputs": [
    {
     "name": "stdout",
     "output_type": "stream",
     "text": [
      "0\n"
     ]
    }
   ],
   "source": [
    "count = 0\n",
    "while count %2 == 0:\n",
    "    print(count)\n",
    "    count+=1\n"
   ]
  },
  {
   "cell_type": "code",
   "execution_count": 14,
   "metadata": {},
   "outputs": [
    {
     "name": "stdout",
     "output_type": "stream",
     "text": [
      "0\n",
      "1\n",
      "2\n",
      "3\n",
      "4\n"
     ]
    }
   ],
   "source": [
    "## Loop Control Statements\n",
    "## Break-- The break statement exists the loop prematurely \n",
    "## Break Statement\n",
    "\n",
    "## Range is collection of data\n",
    "for i in range(10):\n",
    "    if i == 5:\n",
    "        break\n",
    "    print(i)\n"
   ]
  },
  {
   "cell_type": "code",
   "execution_count": 15,
   "metadata": {},
   "outputs": [
    {
     "name": "stdout",
     "output_type": "stream",
     "text": [
      "1\n",
      "3\n",
      "5\n",
      "7\n",
      "9\n"
     ]
    }
   ],
   "source": [
    "## Loop Control statements\n",
    "## Continue--- Skips the current iterations and continues with the next\n",
    "for i in range(10):\n",
    "    if i %2== 0:\n",
    "        continue\n",
    "    print(i)"
   ]
  },
  {
   "cell_type": "code",
   "execution_count": 17,
   "metadata": {},
   "outputs": [
    {
     "name": "stdout",
     "output_type": "stream",
     "text": [
      "0\n",
      "1\n",
      "2\n",
      "The number is 3\n",
      "3\n",
      "4\n"
     ]
    }
   ],
   "source": [
    "# Loop Control Statements\n",
    "# Pass--- The pass statement is null operations, it does nothing\n",
    "\n",
    "for i in range(5):\n",
    "    if i == 3:\n",
    "        print(f\"The number is {i}\")\n",
    "        pass\n",
    "    print(i)\n"
   ]
  },
  {
   "cell_type": "code",
   "execution_count": 20,
   "metadata": {},
   "outputs": [
    {
     "name": "stdout",
     "output_type": "stream",
     "text": [
      "i:0,j:0\n",
      "i:0,j:1\n",
      "i:1,j:0\n",
      "i:1,j:1\n",
      "i:2,j:0\n",
      "i:2,j:1\n"
     ]
    }
   ],
   "source": [
    "## Nested Loops\n",
    "## Nested loops is a loop inside a loop\n",
    "for i in range(3):\n",
    "    for j in range(2):\n",
    "        print(f\"i:{i},j:{j}\")   "
   ]
  },
  {
   "cell_type": "code",
   "execution_count": 23,
   "metadata": {},
   "outputs": [
    {
     "name": "stdout",
     "output_type": "stream",
     "text": [
      "Sum of first natural numbers : 55\n"
     ]
    }
   ],
   "source": [
    "# Examples - Calculate the Sum of first N natural numbers using a while loop and for loop\n",
    "\n",
    "## while loop\n",
    "n = 10\n",
    "sum = 0\n",
    "count = 1\n",
    "\n",
    "while count <=n:\n",
    "    sum+=count\n",
    "    count+=1\n",
    "print(\"Sum of first natural numbers :\",sum)\n"
   ]
  },
  {
   "cell_type": "code",
   "execution_count": 25,
   "metadata": {},
   "outputs": [
    {
     "name": "stdout",
     "output_type": "stream",
     "text": [
      "2\n",
      "3\n",
      "5\n",
      "7\n",
      "11\n",
      "13\n",
      "17\n",
      "19\n",
      "23\n",
      "29\n",
      "31\n",
      "37\n",
      "41\n",
      "43\n",
      "47\n",
      "53\n",
      "59\n",
      "61\n",
      "67\n",
      "71\n",
      "73\n",
      "79\n",
      "83\n",
      "89\n",
      "97\n"
     ]
    }
   ],
   "source": [
    "# Display --- Print number between 1 and 100(Number divisble by 1 or self)\n",
    "for num in range(1,101):\n",
    "    if num > 1:\n",
    "        for i in range(2, num):\n",
    "            if num%i ==0:\n",
    "                break\n",
    "        else:\n",
    "            print(num)    "
   ]
  },
  {
   "cell_type": "code",
   "execution_count": null,
   "metadata": {},
   "outputs": [],
   "source": [
    "# Conclusion:\n",
    "# Loops are powerful constructs in python that allows you to execute a block of code multiple times.\n",
    "# By understanding and using the for and while Loops, along with Loop control statements like break, continue and pass, you can handle wide range of programming tasks efficiently\n"
   ]
  }
 ],
 "metadata": {
  "kernelspec": {
   "display_name": "Python 3",
   "language": "python",
   "name": "python3"
  },
  "language_info": {
   "codemirror_mode": {
    "name": "ipython",
    "version": 3
   },
   "file_extension": ".py",
   "mimetype": "text/x-python",
   "name": "python",
   "nbconvert_exporter": "python",
   "pygments_lexer": "ipython3",
   "version": "3.12.6"
  }
 },
 "nbformat": 4,
 "nbformat_minor": 2
}
