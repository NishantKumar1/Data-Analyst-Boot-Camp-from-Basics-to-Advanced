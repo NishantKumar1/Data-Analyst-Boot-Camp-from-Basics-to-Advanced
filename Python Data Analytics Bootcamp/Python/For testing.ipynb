{
 "cells": [
  {
   "cell_type": "code",
   "execution_count": 1,
   "metadata": {},
   "outputs": [
    {
     "data": {
      "text/plain": [
       "'\\nthis is a example of multiline comments.\\n'"
      ]
     },
     "execution_count": 1,
     "metadata": {},
     "output_type": "execute_result"
    }
   ],
   "source": [
    "# Multiline Commments.\n",
    "\n",
    "'''\n",
    "this is a example of multiline comments.\n",
    "'''"
   ]
  },
  {
   "cell_type": "code",
   "execution_count": 3,
   "metadata": {},
   "outputs": [
    {
     "name": "stdout",
     "output_type": "stream",
     "text": [
      "The given number 9.0is greater than 8.0 and 8.0\n"
     ]
    }
   ],
   "source": [
    "num1 = float(input(\"Please enter the first number\"))\n",
    "num2 = float (input(\"Please enter the second number\"))\n",
    "num3 = float(input(\"Please enter the third number\"))\n",
    "if num1 >= num2 and num2 >= num3:\n",
    "    print(f\"The given number {num1}is greater than {num2} and {num2}\")\n",
    "elif num2 >= num1 and num2 >= num3:\n",
    "    print(f\"The given number is {num2} is greater than {num3}\")\n",
    "else:\n",
    "    print(f\"The given number is {num3} is greater than{num1} and {num2}\")\n",
    "              \n",
    "              "
   ]
  },
  {
   "cell_type": "code",
   "execution_count": null,
   "metadata": {},
   "outputs": [],
   "source": []
  }
 ],
 "metadata": {
  "kernelspec": {
   "display_name": "Python 3",
   "language": "python",
   "name": "python3"
  },
  "language_info": {
   "codemirror_mode": {
    "name": "ipython",
    "version": 3
   },
   "file_extension": ".py",
   "mimetype": "text/x-python",
   "name": "python",
   "nbconvert_exporter": "python",
   "pygments_lexer": "ipython3",
   "version": "3.12.6"
  }
 },
 "nbformat": 4,
 "nbformat_minor": 2
}
